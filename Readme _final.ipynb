{
 "cells": [
  {
   "cell_type": "markdown",
   "metadata": {},
   "source": [
    "# ACT and SAT Scores 2017 - 2019"
   ]
  },
  {
   "cell_type": "markdown",
   "metadata": {},
   "source": [
    "# Problem \n",
    "\n",
    "The new format for the SAT was released in March 2016. For this project I am acting as an employee of the College Board - the organization that administers the SAT - I am part of a team that tracks statewide participation and recommends where money is best spent to improve SAT participation rates, on a state of my choice. "
   ]
  },
  {
   "cell_type": "markdown",
   "metadata": {},
   "source": [
    "## Summary \n",
    "\n",
    "The process began with importing data for the last three years of SAT and ACT scores by state. The data provided the mean score per test section, overall score, and participation rate by state for 2017, 2018 and 2019. The ACT data for 2018 and 2019 was incomplete in that it did not include a breakdown per section.\n",
    "\n",
    "The data collected was then processed to ensure accuracy. Each file imported required examination, removal of unneccessary data, and changing the data type to allow for manipulation.\n",
    "\n",
    "After the data preparation, several basic manipulations we used to get a high-level understanding of the trends in the data. Several states displayed clear trends in significant changes in their participation in tests, as well as in the results.\n",
    "\n",
    "A clear example of these trends is the state of Illinois. Throughout this report, we examine overarching trends in the data, and the distinct path of the state of Illinois. Since 2017, participation in the SAT has risen by 1011.11%, while it experienced a 62% decrease in ACT participation.\n",
    "\n",
    "How has the drastic changes in participation affected scores? The total score of the SAT has decreased since 2017, and the scores for the ACT have increased. And what does that mean for students in the state of Illinois? Additional research suggests college enrollment has since increased, despite a nation-wide trend in decreasing enrollment.\n",
    "\n",
    "While the future of mandated state-wide tests are unknown, and out of the hands of the College Board, there are a number of recommendations to ensure the rate of test taking remains high, as well as provide a good case study for other states looking to immplement a state-wide subsidized test."
   ]
  },
  {
   "cell_type": "markdown",
   "metadata": {},
   "source": [
    "# Data Dictionary \n",
    "|Feature | Type  | Dataset |                Description|\n",
    "|---------|-------|---------|---------------------------|\n",
    "|state  | object| 2017 and 2018 SAT+ ACT|                    States|                  \n",
    "|participation_2017_sat  | float  | 2017 SAT |              State SAT participation rate|\n",
    "|writing_reading_2017_sat    | integer |    2017 SAT  | Mean SAT score by state for Reading + Writing (200-800)|\n",
    "|math_2017_sat | integer | 2017 SAT  |Mean SAT score by state for Math (200-800) |\n",
    "|total_2017_sat | integer |  2017 |Mean Total SAT score by state (400-1600)|\n",
    "|participation_2017_act| float | 2017 ACT | State participation rate|\n",
    "|english_2017_act | float | 2017 ACT    | Mean ACT score by state for English (1-36) |\n",
    "|math_2017_act |float | 2017 ACT | Mean ACT score by state for Math (1-36)|\n",
    "|reading_2017_act   | float | 2017 ACT   | Mean ACT score by state for Reading (1-36)|\n",
    "|science_2017_act | float | 2017 ACT |Mean ACT score by state for Science (1-36)|\n",
    "|composite_2017_act | float |  2017 ACT |Mean composite score by state (1-36) |\n",
    "|participation_2018_sat|float | 2018 SAT |State SAT participation rate|\n",
    "|writing_reading_2018_sat| integer | 2018 SAT | Mean SAT score by state for Reading + Writing (200-800)|\n",
    "|math_2018_sat| integer | 2018 SAT | Mean SAT score by state for Math (200-800)|\n",
    "|total_2018_sat | integer | 2018 SAT | Mean total SAT score by state (200 - 800)|\n",
    "|participation_2018_act| float | 2018 ACT | State ACT participation rate|\n",
    "|composite_2018_act | float | 2018 ACT | Mean Composite ACT score by state (1-36)|\n"
   ]
  },
  {
   "cell_type": "markdown",
   "metadata": {},
   "source": [
    "# Requirements and Installation"
   ]
  },
  {
   "cell_type": "markdown",
   "metadata": {},
   "source": [
    "This project employed for data analysis\n",
    "* python \n",
    "* matplotlib \n",
    "* pandas \n",
    "* numpy\n",
    "I installed the following libraries and then called them in a jupyter notebook as follows:\n",
    "\n",
    "import pandas as pd   \n",
    "import numpy as np \n",
    "import matplotlib.pyplot\n",
    "\n",
    "\n",
    "* visit https://pandas.pydata.org/pandas-docs/stable/getting_started/install.html for more info \n",
    "\n",
    "* visit https://phoenixnap.com/kb/install-numpy for more info \n",
    "\n",
    "\n",
    "* visit https://matplotlib.org/3.3.3/users/installing.html for more info"
   ]
  },
  {
   "cell_type": "markdown",
   "metadata": {},
   "source": [
    "## Conculsion and Recommendations based on a single state analysis \n",
    "Based on the data analysis, there are a few recommendations for the College Board.\n",
    "\n",
    "It is a common phenomena in the US that states are either ACT dominated or SAT dominated. Because of this polarization It doesn’t make sense to try to get states like those on the  east coast which have contracts and mandates around the SAT to come around and implement the ACT. Our success rates would likely be very low because of the infrastructure in these states there to support the SAT, so I want to target swing states as we can call  them, that is states that are not extremely dominated by one or the other.  I’ve identified this as largely the mid west region \n",
    "\n",
    "To increase participation amongst our target population it’s import to understand barriers to participation. \n",
    "There are 27 million households in midwest, 60% of that are couples with children that will likely at some point be considering taking the ACT \n",
    "Many of those children will be hispanic and many of them will come from lower income backgrounds. \n",
    "Income impacts the ACT. 56,000 students fall in to one of the category of being  low-socio economic status, and having parents who did not attend college. We know that our target population has large non-white and lower socioeconomic demographics. Turns out, this has detrimental impacts on ACT outcomes. Only 9% of students which were non white, lower socioeconomic status, and had parents who didn’t attend college reached benchmark scores on the ACT. \n",
    "\n",
    "To see the impacts economic status and and ethnicity had on Act outcomes ,I wanted to target a state with  large numbers of non white and lower income demographics. \n",
    "\n",
    "This led me to New Mexico.\n",
    "\n",
    "The biggest thing I discovered is that the ACT is not offered in spanish. \n",
    "\n",
    "As a result of this hispanic students are scoring significantly lower on the ACT than their white counterparts.\n",
    "This could be a large reason that New Mexico’s average ACT score is significantly lower than the national Average ACT score.\n",
    "\n",
    "Offering the ACT in Spanish and for free in new mexico will not only increase overall ACT participation, it’ll also increase average ACT test scores, better the outcomes of hispanic students admittance to college, and decrease cultural discrimination taking place on the ACT. \n",
    "\n",
    "\n"
   ]
  },
  {
   "cell_type": "markdown",
   "metadata": {},
   "source": [
    "## Sources \n",
    "\n",
    "http://cervantesobservatorio.fas.harvard.edu/sites/default/files/hispanic_map_2017en.pdf\n",
    "\n",
    "https://www.pewresearch.org/hispanic/2013/08/29/mapping-the-latino-population-by-state-county-and-city/\n",
    "\n",
    "https://www.act.org/content/dam/act/unsecured/documents/cccr2017/P_32_329999_S_S_N00_ACT-GCPR_New_Mexico.pdf\n",
    "\n",
    "https://censusreporter.org/profiles/02000US2-midwest-region/\n",
    "\n"
   ]
  },
  {
   "cell_type": "code",
   "execution_count": null,
   "metadata": {},
   "outputs": [],
   "source": []
  }
 ],
 "metadata": {
  "kernelspec": {
   "display_name": "Python 3",
   "language": "python",
   "name": "python3"
  },
  "language_info": {
   "codemirror_mode": {
    "name": "ipython",
    "version": 3
   },
   "file_extension": ".py",
   "mimetype": "text/x-python",
   "name": "python",
   "nbconvert_exporter": "python",
   "pygments_lexer": "ipython3",
   "version": "3.8.3"
  }
 },
 "nbformat": 4,
 "nbformat_minor": 4
}
